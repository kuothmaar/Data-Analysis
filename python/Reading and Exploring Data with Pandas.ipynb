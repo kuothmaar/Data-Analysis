{
 "cells": [
  {
   "cell_type": "markdown",
   "id": "fabdd8f0",
   "metadata": {},
   "source": [
    "## l Loading csv files"
   ]
  },
  {
   "cell_type": "code",
   "execution_count": null,
   "id": "19c55921",
   "metadata": {},
   "outputs": [
    {
     "name": "stdout",
     "output_type": "stream",
     "text": [
      "datasets loaded successfully\n"
     ]
    }
   ],
   "source": [
    "# medthod 1: load from a  locate file on your computer\n",
    "df = pd.read_csv(\"datasets/sales_data.csv\")\n",
    "print(\"datasets loaded successfully\")"
   ]
  },
  {
   "cell_type": "code",
   "execution_count": 5,
   "id": "3c7433d9",
   "metadata": {},
   "outputs": [],
   "source": [
    "import pandas as pd \n",
    "# Method 1: Load from a local file on your computer \n"
   ]
  },
  {
   "cell_type": "code",
   "execution_count": 50,
   "id": "c9fa1db2",
   "metadata": {},
   "outputs": [
    {
     "name": "stdout",
     "output_type": "stream",
     "text": [
      "data loaded successfully\n"
     ]
    }
   ],
   "source": [
    "# medthod 2: load with  extra option ( we'll explain these)\n",
    "de =pd.read_csv(\"datasets\\sales_data.csv\",sep=\",\", encoding=\"utf-8\")\n",
    "print(\"data loaded successfully\")"
   ]
  },
  {
   "cell_type": "markdown",
   "id": "d76a444b",
   "metadata": {},
   "source": [
    "## 2.loading Excel File"
   ]
  },
  {
   "cell_type": "code",
   "execution_count": 8,
   "id": "7c27f880",
   "metadata": {},
   "outputs": [
    {
     "name": "stdout",
     "output_type": "stream",
     "text": [
      "Excel file loaded successfully!\n"
     ]
    }
   ],
   "source": [
    "# Load an Excel file (.xlsx or .xls) \n",
    "df = pd.read_excel(\"datasets\\student_grades.xlsx\") \n",
    "print(\"Excel file loaded successfully!\")\n"
   ]
  },
  {
   "cell_type": "code",
   "execution_count": 10,
   "id": "844328cd",
   "metadata": {},
   "outputs": [
    {
     "name": "stdout",
     "output_type": "stream",
     "text": [
      "Excel file loaded successfully!\n"
     ]
    }
   ],
   "source": [
    "# Load  specific worksheets from an Excel file\n",
    "df = pd.read_excel(\"datasets\\monthly_reports.xlsx\",sheet_name=\"January\") \n",
    "print(\"Excel file loaded successfully!\")\n"
   ]
  },
  {
   "cell_type": "markdown",
   "id": "530488b0",
   "metadata": {},
   "source": [
    "fixing loading error"
   ]
  },
  {
   "cell_type": "code",
   "execution_count": 11,
   "id": "1dede41e",
   "metadata": {},
   "outputs": [
    {
     "name": "stdout",
     "output_type": "stream",
     "text": [
      "file path not found\n"
     ]
    }
   ],
   "source": [
    "import os\n",
    "if os.path.exists(\"sales_data.csv\"):\n",
    "   sales=pd.read_csv(\"sales_data.csv\")\n",
    "   print(\"loading successfully\")\n",
    "else:\n",
    "    print(\"file path not found\")"
   ]
  },
  {
   "cell_type": "markdown",
   "id": "35636280",
   "metadata": {},
   "source": [
    "2. exploring  datafram"
   ]
  },
  {
   "cell_type": "code",
   "execution_count": 12,
   "id": "0572f13c",
   "metadata": {},
   "outputs": [
    {
     "name": "stdout",
     "output_type": "stream",
     "text": [
      "loaded succssfully\n"
     ]
    }
   ],
   "source": [
    "#  A load sales data\n",
    "df= pd.read_csv(\"datasets\\sales_data.csv\")\n",
    "print(\"loaded succssfully\")"
   ]
  },
  {
   "cell_type": "code",
   "execution_count": 13,
   "id": "953d3721",
   "metadata": {},
   "outputs": [
    {
     "name": "stdout",
     "output_type": "stream",
     "text": [
      "show the first 5 row\n"
     ]
    },
    {
     "data": {
      "text/html": [
       "<div>\n",
       "<style scoped>\n",
       "    .dataframe tbody tr th:only-of-type {\n",
       "        vertical-align: middle;\n",
       "    }\n",
       "\n",
       "    .dataframe tbody tr th {\n",
       "        vertical-align: top;\n",
       "    }\n",
       "\n",
       "    .dataframe thead th {\n",
       "        text-align: right;\n",
       "    }\n",
       "</style>\n",
       "<table border=\"1\" class=\"dataframe\">\n",
       "  <thead>\n",
       "    <tr style=\"text-align: right;\">\n",
       "      <th></th>\n",
       "      <th>Date</th>\n",
       "      <th>Product</th>\n",
       "      <th>Category</th>\n",
       "      <th>Price</th>\n",
       "      <th>Quantity</th>\n",
       "      <th>Customer_Type</th>\n",
       "    </tr>\n",
       "  </thead>\n",
       "  <tbody>\n",
       "    <tr>\n",
       "      <th>0</th>\n",
       "      <td>2024-02-11</td>\n",
       "      <td>Croissant</td>\n",
       "      <td>Food</td>\n",
       "      <td>2.87</td>\n",
       "      <td>5</td>\n",
       "      <td>New</td>\n",
       "    </tr>\n",
       "    <tr>\n",
       "      <th>1</th>\n",
       "      <td>2024-01-07</td>\n",
       "      <td>Bagel</td>\n",
       "      <td>Food</td>\n",
       "      <td>2.40</td>\n",
       "      <td>5</td>\n",
       "      <td>New</td>\n",
       "    </tr>\n",
       "    <tr>\n",
       "      <th>2</th>\n",
       "      <td>2024-01-29</td>\n",
       "      <td>Mocha</td>\n",
       "      <td>Beverage</td>\n",
       "      <td>5.32</td>\n",
       "      <td>2</td>\n",
       "      <td>New</td>\n",
       "    </tr>\n",
       "    <tr>\n",
       "      <th>3</th>\n",
       "      <td>2024-02-14</td>\n",
       "      <td>Americano</td>\n",
       "      <td>Beverage</td>\n",
       "      <td>4.25</td>\n",
       "      <td>2</td>\n",
       "      <td>New</td>\n",
       "    </tr>\n",
       "    <tr>\n",
       "      <th>4</th>\n",
       "      <td>2024-02-21</td>\n",
       "      <td>Mocha</td>\n",
       "      <td>Beverage</td>\n",
       "      <td>3.15</td>\n",
       "      <td>1</td>\n",
       "      <td>Regular</td>\n",
       "    </tr>\n",
       "  </tbody>\n",
       "</table>\n",
       "</div>"
      ],
      "text/plain": [
       "         Date    Product  Category  Price  Quantity Customer_Type\n",
       "0  2024-02-11  Croissant      Food   2.87         5           New\n",
       "1  2024-01-07      Bagel      Food   2.40         5           New\n",
       "2  2024-01-29      Mocha  Beverage   5.32         2           New\n",
       "3  2024-02-14  Americano  Beverage   4.25         2           New\n",
       "4  2024-02-21      Mocha  Beverage   3.15         1       Regular"
      ]
     },
     "execution_count": 13,
     "metadata": {},
     "output_type": "execute_result"
    }
   ],
   "source": [
    "print(\"show the first 5 row\")\n",
    "df.head(5)"
   ]
  },
  {
   "cell_type": "code",
   "execution_count": 18,
   "id": "d7d014e3",
   "metadata": {},
   "outputs": [
    {
     "name": "stdout",
     "output_type": "stream",
     "text": [
      "last 5 row\n"
     ]
    },
    {
     "data": {
      "text/html": [
       "<div>\n",
       "<style scoped>\n",
       "    .dataframe tbody tr th:only-of-type {\n",
       "        vertical-align: middle;\n",
       "    }\n",
       "\n",
       "    .dataframe tbody tr th {\n",
       "        vertical-align: top;\n",
       "    }\n",
       "\n",
       "    .dataframe thead th {\n",
       "        text-align: right;\n",
       "    }\n",
       "</style>\n",
       "<table border=\"1\" class=\"dataframe\">\n",
       "  <thead>\n",
       "    <tr style=\"text-align: right;\">\n",
       "      <th></th>\n",
       "      <th>Date</th>\n",
       "      <th>Product</th>\n",
       "      <th>Category</th>\n",
       "      <th>Price</th>\n",
       "      <th>Quantity</th>\n",
       "      <th>Customer_Type</th>\n",
       "    </tr>\n",
       "  </thead>\n",
       "  <tbody>\n",
       "    <tr>\n",
       "      <th>25</th>\n",
       "      <td>2024-02-10</td>\n",
       "      <td>Cappuccino</td>\n",
       "      <td>Beverage</td>\n",
       "      <td>2.89</td>\n",
       "      <td>3</td>\n",
       "      <td>Regular</td>\n",
       "    </tr>\n",
       "    <tr>\n",
       "      <th>26</th>\n",
       "      <td>2024-03-08</td>\n",
       "      <td>Muffin</td>\n",
       "      <td>Food</td>\n",
       "      <td>2.99</td>\n",
       "      <td>4</td>\n",
       "      <td>New</td>\n",
       "    </tr>\n",
       "    <tr>\n",
       "      <th>27</th>\n",
       "      <td>2024-03-29</td>\n",
       "      <td>Espresso</td>\n",
       "      <td>Beverage</td>\n",
       "      <td>5.45</td>\n",
       "      <td>5</td>\n",
       "      <td>New</td>\n",
       "    </tr>\n",
       "    <tr>\n",
       "      <th>28</th>\n",
       "      <td>2024-02-20</td>\n",
       "      <td>Espresso</td>\n",
       "      <td>Beverage</td>\n",
       "      <td>4.32</td>\n",
       "      <td>1</td>\n",
       "      <td>New</td>\n",
       "    </tr>\n",
       "    <tr>\n",
       "      <th>29</th>\n",
       "      <td>2024-03-13</td>\n",
       "      <td>Croissant</td>\n",
       "      <td>Food</td>\n",
       "      <td>3.03</td>\n",
       "      <td>5</td>\n",
       "      <td>New</td>\n",
       "    </tr>\n",
       "  </tbody>\n",
       "</table>\n",
       "</div>"
      ],
      "text/plain": [
       "          Date     Product  Category  Price  Quantity Customer_Type\n",
       "25  2024-02-10  Cappuccino  Beverage   2.89         3       Regular\n",
       "26  2024-03-08      Muffin      Food   2.99         4           New\n",
       "27  2024-03-29    Espresso  Beverage   5.45         5           New\n",
       "28  2024-02-20    Espresso  Beverage   4.32         1           New\n",
       "29  2024-03-13   Croissant      Food   3.03         5           New"
      ]
     },
     "execution_count": 18,
     "metadata": {},
     "output_type": "execute_result"
    }
   ],
   "source": [
    "print(\"last 5 row\")\n",
    "df.tail(5)"
   ]
  },
  {
   "cell_type": "markdown",
   "id": "83f4e167",
   "metadata": {},
   "source": [
    "understand your data structer\n"
   ]
  },
  {
   "cell_type": "code",
   "execution_count": 17,
   "id": "22f820b5",
   "metadata": {},
   "outputs": [
    {
     "name": "stdout",
     "output_type": "stream",
     "text": [
      "datasets information\n",
      "<class 'pandas.core.frame.DataFrame'>\n",
      "RangeIndex: 30 entries, 0 to 29\n",
      "Data columns (total 6 columns):\n",
      " #   Column         Non-Null Count  Dtype  \n",
      "---  ------         --------------  -----  \n",
      " 0   Date           30 non-null     object \n",
      " 1   Product        30 non-null     object \n",
      " 2   Category       30 non-null     object \n",
      " 3   Price          30 non-null     float64\n",
      " 4   Quantity       30 non-null     int64  \n",
      " 5   Customer_Type  30 non-null     object \n",
      "dtypes: float64(1), int64(1), object(4)\n",
      "memory usage: 1.5+ KB\n"
     ]
    }
   ],
   "source": [
    "print(\"datasets information\")\n",
    "df.info()"
   ]
  },
  {
   "cell_type": "code",
   "execution_count": null,
   "id": "9ea243b9",
   "metadata": {},
   "outputs": [
    {
     "name": "stdout",
     "output_type": "stream",
     "text": [
      "dataset shape\n"
     ]
    },
    {
     "data": {
      "text/plain": [
       "(30, 6)"
      ]
     },
     "execution_count": 19,
     "metadata": {},
     "output_type": "execute_result"
    }
   ],
   "source": [
    "#dataset shape\n",
    "df.shape"
   ]
  },
  {
   "cell_type": "code",
   "execution_count": 20,
   "id": "a0c9743c",
   "metadata": {},
   "outputs": [
    {
     "name": "stdout",
     "output_type": "stream",
     "text": [
      "number of colums\n"
     ]
    },
    {
     "data": {
      "text/plain": [
       "30"
      ]
     },
     "execution_count": 20,
     "metadata": {},
     "output_type": "execute_result"
    }
   ],
   "source": [
    "print(\"number of colums\")\n",
    "df.shape[0]"
   ]
  },
  {
   "cell_type": "code",
   "execution_count": 21,
   "id": "e56cb02d",
   "metadata": {},
   "outputs": [
    {
     "data": {
      "text/plain": [
       "Index(['Date', 'Product', 'Category', 'Price', 'Quantity', 'Customer_Type'], dtype='object')"
      ]
     },
     "execution_count": 21,
     "metadata": {},
     "output_type": "execute_result"
    }
   ],
   "source": [
    "#print colums\n",
    "df.columns"
   ]
  },
  {
   "cell_type": "code",
   "execution_count": 22,
   "id": "1d8b6e67",
   "metadata": {},
   "outputs": [
    {
     "data": {
      "text/plain": [
       "['Date', 'Product', 'Category', 'Price', 'Quantity', 'Customer_Type']"
      ]
     },
     "execution_count": 22,
     "metadata": {},
     "output_type": "execute_result"
    }
   ],
   "source": [
    "df.columns.tolist()# tolist convert in to a single list"
   ]
  },
  {
   "cell_type": "code",
   "execution_count": null,
   "id": "cd16d631",
   "metadata": {},
   "outputs": [],
   "source": [
    "get the summary statistice"
   ]
  },
  {
   "cell_type": "code",
   "execution_count": null,
   "id": "2f5be46a",
   "metadata": {},
   "outputs": [
    {
     "data": {
      "text/html": [
       "<div>\n",
       "<style scoped>\n",
       "    .dataframe tbody tr th:only-of-type {\n",
       "        vertical-align: middle;\n",
       "    }\n",
       "\n",
       "    .dataframe tbody tr th {\n",
       "        vertical-align: top;\n",
       "    }\n",
       "\n",
       "    .dataframe thead th {\n",
       "        text-align: right;\n",
       "    }\n",
       "</style>\n",
       "<table border=\"1\" class=\"dataframe\">\n",
       "  <thead>\n",
       "    <tr style=\"text-align: right;\">\n",
       "      <th></th>\n",
       "      <th>Price</th>\n",
       "      <th>Quantity</th>\n",
       "    </tr>\n",
       "  </thead>\n",
       "  <tbody>\n",
       "    <tr>\n",
       "      <th>count</th>\n",
       "      <td>30.000000</td>\n",
       "      <td>30.000000</td>\n",
       "    </tr>\n",
       "    <tr>\n",
       "      <th>mean</th>\n",
       "      <td>3.750667</td>\n",
       "      <td>3.300000</td>\n",
       "    </tr>\n",
       "    <tr>\n",
       "      <th>std</th>\n",
       "      <td>0.920858</td>\n",
       "      <td>1.556964</td>\n",
       "    </tr>\n",
       "    <tr>\n",
       "      <th>min</th>\n",
       "      <td>2.400000</td>\n",
       "      <td>1.000000</td>\n",
       "    </tr>\n",
       "    <tr>\n",
       "      <th>25%</th>\n",
       "      <td>3.000000</td>\n",
       "      <td>2.000000</td>\n",
       "    </tr>\n",
       "    <tr>\n",
       "      <th>50%</th>\n",
       "      <td>3.660000</td>\n",
       "      <td>4.000000</td>\n",
       "    </tr>\n",
       "    <tr>\n",
       "      <th>75%</th>\n",
       "      <td>4.305000</td>\n",
       "      <td>5.000000</td>\n",
       "    </tr>\n",
       "    <tr>\n",
       "      <th>max</th>\n",
       "      <td>5.490000</td>\n",
       "      <td>5.000000</td>\n",
       "    </tr>\n",
       "  </tbody>\n",
       "</table>\n",
       "</div>"
      ],
      "text/plain": [
       "           Price   Quantity\n",
       "count  30.000000  30.000000\n",
       "mean    3.750667   3.300000\n",
       "std     0.920858   1.556964\n",
       "min     2.400000   1.000000\n",
       "25%     3.000000   2.000000\n",
       "50%     3.660000   4.000000\n",
       "75%     4.305000   5.000000\n",
       "max     5.490000   5.000000"
      ]
     },
     "execution_count": 23,
     "metadata": {},
     "output_type": "execute_result"
    }
   ],
   "source": [
    "# show summary statistics\n",
    "df.describe() # get statistics for numerical colums only"
   ]
  },
  {
   "cell_type": "code",
   "execution_count": null,
   "id": "19ea9996",
   "metadata": {},
   "outputs": [],
   "source": [
    "print(\"all column statistics\")"
   ]
  },
  {
   "cell_type": "markdown",
   "id": "453c1ed1",
   "metadata": {},
   "source": [
    "##"
   ]
  },
  {
   "cell_type": "markdown",
   "id": "7ae1377f",
   "metadata": {},
   "source": [
    "2.3 select data"
   ]
  },
  {
   "cell_type": "code",
   "execution_count": null,
   "id": "f56ed72f",
   "metadata": {},
   "outputs": [
    {
     "data": {
      "text/plain": [
       "0    Croissant\n",
       "1        Bagel\n",
       "2        Mocha\n",
       "3    Americano\n",
       "4        Mocha\n",
       "Name: Product, dtype: object"
      ]
     },
     "execution_count": 25,
     "metadata": {},
     "output_type": "execute_result"
    }
   ],
   "source": [
    "# select one column\n",
    "product_cilumn=df[\"Product\"]\n",
    "product_cilumn.head(5\n",
    "                    )"
   ]
  },
  {
   "cell_type": "code",
   "execution_count": 26,
   "id": "472b5389",
   "metadata": {},
   "outputs": [
    {
     "data": {
      "text/html": [
       "<div>\n",
       "<style scoped>\n",
       "    .dataframe tbody tr th:only-of-type {\n",
       "        vertical-align: middle;\n",
       "    }\n",
       "\n",
       "    .dataframe tbody tr th {\n",
       "        vertical-align: top;\n",
       "    }\n",
       "\n",
       "    .dataframe thead th {\n",
       "        text-align: right;\n",
       "    }\n",
       "</style>\n",
       "<table border=\"1\" class=\"dataframe\">\n",
       "  <thead>\n",
       "    <tr style=\"text-align: right;\">\n",
       "      <th></th>\n",
       "      <th>Date</th>\n",
       "      <th>Product</th>\n",
       "      <th>Category</th>\n",
       "      <th>Price</th>\n",
       "      <th>Quantity</th>\n",
       "      <th>Customer_Type</th>\n",
       "    </tr>\n",
       "  </thead>\n",
       "  <tbody>\n",
       "    <tr>\n",
       "      <th>0</th>\n",
       "      <td>2024-02-11</td>\n",
       "      <td>Croissant</td>\n",
       "      <td>Food</td>\n",
       "      <td>2.87</td>\n",
       "      <td>5</td>\n",
       "      <td>New</td>\n",
       "    </tr>\n",
       "    <tr>\n",
       "      <th>1</th>\n",
       "      <td>2024-01-07</td>\n",
       "      <td>Bagel</td>\n",
       "      <td>Food</td>\n",
       "      <td>2.40</td>\n",
       "      <td>5</td>\n",
       "      <td>New</td>\n",
       "    </tr>\n",
       "    <tr>\n",
       "      <th>2</th>\n",
       "      <td>2024-01-29</td>\n",
       "      <td>Mocha</td>\n",
       "      <td>Beverage</td>\n",
       "      <td>5.32</td>\n",
       "      <td>2</td>\n",
       "      <td>New</td>\n",
       "    </tr>\n",
       "    <tr>\n",
       "      <th>3</th>\n",
       "      <td>2024-02-14</td>\n",
       "      <td>Americano</td>\n",
       "      <td>Beverage</td>\n",
       "      <td>4.25</td>\n",
       "      <td>2</td>\n",
       "      <td>New</td>\n",
       "    </tr>\n",
       "    <tr>\n",
       "      <th>4</th>\n",
       "      <td>2024-02-21</td>\n",
       "      <td>Mocha</td>\n",
       "      <td>Beverage</td>\n",
       "      <td>3.15</td>\n",
       "      <td>1</td>\n",
       "      <td>Regular</td>\n",
       "    </tr>\n",
       "  </tbody>\n",
       "</table>\n",
       "</div>"
      ],
      "text/plain": [
       "         Date    Product  Category  Price  Quantity Customer_Type\n",
       "0  2024-02-11  Croissant      Food   2.87         5           New\n",
       "1  2024-01-07      Bagel      Food   2.40         5           New\n",
       "2  2024-01-29      Mocha  Beverage   5.32         2           New\n",
       "3  2024-02-14  Americano  Beverage   4.25         2           New\n",
       "4  2024-02-21      Mocha  Beverage   3.15         1       Regular"
      ]
     },
     "execution_count": 26,
     "metadata": {},
     "output_type": "execute_result"
    }
   ],
   "source": [
    "df.head(5)"
   ]
  },
  {
   "cell_type": "code",
   "execution_count": 30,
   "id": "51895cbc",
   "metadata": {},
   "outputs": [
    {
     "data": {
      "text/html": [
       "<div>\n",
       "<style scoped>\n",
       "    .dataframe tbody tr th:only-of-type {\n",
       "        vertical-align: middle;\n",
       "    }\n",
       "\n",
       "    .dataframe tbody tr th {\n",
       "        vertical-align: top;\n",
       "    }\n",
       "\n",
       "    .dataframe thead th {\n",
       "        text-align: right;\n",
       "    }\n",
       "</style>\n",
       "<table border=\"1\" class=\"dataframe\">\n",
       "  <thead>\n",
       "    <tr style=\"text-align: right;\">\n",
       "      <th></th>\n",
       "      <th>Product</th>\n",
       "      <th>Price</th>\n",
       "    </tr>\n",
       "  </thead>\n",
       "  <tbody>\n",
       "    <tr>\n",
       "      <th>0</th>\n",
       "      <td>Croissant</td>\n",
       "      <td>2.87</td>\n",
       "    </tr>\n",
       "    <tr>\n",
       "      <th>1</th>\n",
       "      <td>Bagel</td>\n",
       "      <td>2.40</td>\n",
       "    </tr>\n",
       "    <tr>\n",
       "      <th>2</th>\n",
       "      <td>Mocha</td>\n",
       "      <td>5.32</td>\n",
       "    </tr>\n",
       "    <tr>\n",
       "      <th>3</th>\n",
       "      <td>Americano</td>\n",
       "      <td>4.25</td>\n",
       "    </tr>\n",
       "    <tr>\n",
       "      <th>4</th>\n",
       "      <td>Mocha</td>\n",
       "      <td>3.15</td>\n",
       "    </tr>\n",
       "  </tbody>\n",
       "</table>\n",
       "</div>"
      ],
      "text/plain": [
       "     Product  Price\n",
       "0  Croissant   2.87\n",
       "1      Bagel   2.40\n",
       "2      Mocha   5.32\n",
       "3  Americano   4.25\n",
       "4      Mocha   3.15"
      ]
     },
     "execution_count": 30,
     "metadata": {},
     "output_type": "execute_result"
    }
   ],
   "source": [
    "#select multiple column\n",
    "product_and_price= df[[\"Product\",\"Price\"]]\n",
    "product_and_price.head()"
   ]
  },
  {
   "cell_type": "code",
   "execution_count": 55,
   "id": "ba2aae0b",
   "metadata": {},
   "outputs": [
    {
     "data": {
      "text/plain": [
       "0    2.87\n",
       "1    2.40\n",
       "2    5.32\n",
       "3    4.25\n",
       "4    3.15\n",
       "Name: Price, dtype: float64"
      ]
     },
     "execution_count": 55,
     "metadata": {},
     "output_type": "execute_result"
    }
   ],
   "source": [
    "# medthod 3 select columns using dot notation\n",
    "Prices= df.Price\n",
    "Prices.head(5)"
   ]
  },
  {
   "cell_type": "markdown",
   "id": "0c27fde2",
   "metadata": {},
   "source": [
    "Select Row"
   ]
  },
  {
   "cell_type": "markdown",
   "id": "4f647f19",
   "metadata": {},
   "source": [
    "Using iloc"
   ]
  },
  {
   "cell_type": "code",
   "execution_count": 33,
   "id": "ad473f58",
   "metadata": {},
   "outputs": [
    {
     "data": {
      "text/plain": [
       "Date             2024-02-11\n",
       "Product           Croissant\n",
       "Category               Food\n",
       "Price                  2.87\n",
       "Quantity                  5\n",
       "Customer_Type           New\n",
       "Name: 0, dtype: object"
      ]
     },
     "execution_count": 33,
     "metadata": {},
     "output_type": "execute_result"
    }
   ],
   "source": [
    "first_row=df.iloc[0]\n",
    "first_row"
   ]
  },
  {
   "cell_type": "code",
   "execution_count": 34,
   "id": "daa5e9a6",
   "metadata": {},
   "outputs": [
    {
     "data": {
      "text/html": [
       "<div>\n",
       "<style scoped>\n",
       "    .dataframe tbody tr th:only-of-type {\n",
       "        vertical-align: middle;\n",
       "    }\n",
       "\n",
       "    .dataframe tbody tr th {\n",
       "        vertical-align: top;\n",
       "    }\n",
       "\n",
       "    .dataframe thead th {\n",
       "        text-align: right;\n",
       "    }\n",
       "</style>\n",
       "<table border=\"1\" class=\"dataframe\">\n",
       "  <thead>\n",
       "    <tr style=\"text-align: right;\">\n",
       "      <th></th>\n",
       "      <th>Date</th>\n",
       "      <th>Product</th>\n",
       "      <th>Category</th>\n",
       "      <th>Price</th>\n",
       "      <th>Quantity</th>\n",
       "      <th>Customer_Type</th>\n",
       "    </tr>\n",
       "  </thead>\n",
       "  <tbody>\n",
       "    <tr>\n",
       "      <th>0</th>\n",
       "      <td>2024-02-11</td>\n",
       "      <td>Croissant</td>\n",
       "      <td>Food</td>\n",
       "      <td>2.87</td>\n",
       "      <td>5</td>\n",
       "      <td>New</td>\n",
       "    </tr>\n",
       "    <tr>\n",
       "      <th>1</th>\n",
       "      <td>2024-01-07</td>\n",
       "      <td>Bagel</td>\n",
       "      <td>Food</td>\n",
       "      <td>2.40</td>\n",
       "      <td>5</td>\n",
       "      <td>New</td>\n",
       "    </tr>\n",
       "    <tr>\n",
       "      <th>2</th>\n",
       "      <td>2024-01-29</td>\n",
       "      <td>Mocha</td>\n",
       "      <td>Beverage</td>\n",
       "      <td>5.32</td>\n",
       "      <td>2</td>\n",
       "      <td>New</td>\n",
       "    </tr>\n",
       "  </tbody>\n",
       "</table>\n",
       "</div>"
      ],
      "text/plain": [
       "         Date    Product  Category  Price  Quantity Customer_Type\n",
       "0  2024-02-11  Croissant      Food   2.87         5           New\n",
       "1  2024-01-07      Bagel      Food   2.40         5           New\n",
       "2  2024-01-29      Mocha  Beverage   5.32         2           New"
      ]
     },
     "execution_count": 34,
     "metadata": {},
     "output_type": "execute_result"
    }
   ],
   "source": [
    "first_3_rows=df.iloc[0:3]\n",
    "first_3_rows"
   ]
  },
  {
   "cell_type": "code",
   "execution_count": null,
   "id": "cda61241",
   "metadata": {},
   "outputs": [],
   "source": [
    "using. ioc[] label-based select"
   ]
  },
  {
   "cell_type": "code",
   "execution_count": 35,
   "id": "cca4050a",
   "metadata": {},
   "outputs": [
    {
     "data": {
      "text/plain": [
       "Date             2024-02-11\n",
       "Product           Croissant\n",
       "Category               Food\n",
       "Price                  2.87\n",
       "Quantity                  5\n",
       "Customer_Type           New\n",
       "Name: 0, dtype: object"
      ]
     },
     "execution_count": 35,
     "metadata": {},
     "output_type": "execute_result"
    }
   ],
   "source": [
    "first_rows=df.loc[0]\n",
    "first_row"
   ]
  },
  {
   "cell_type": "markdown",
   "id": "9afb1bdb",
   "metadata": {},
   "source": []
  },
  {
   "cell_type": "code",
   "execution_count": 64,
   "id": "151b8d17",
   "metadata": {},
   "outputs": [
    {
     "data": {
      "text/html": [
       "<div>\n",
       "<style scoped>\n",
       "    .dataframe tbody tr th:only-of-type {\n",
       "        vertical-align: middle;\n",
       "    }\n",
       "\n",
       "    .dataframe tbody tr th {\n",
       "        vertical-align: top;\n",
       "    }\n",
       "\n",
       "    .dataframe thead th {\n",
       "        text-align: right;\n",
       "    }\n",
       "</style>\n",
       "<table border=\"1\" class=\"dataframe\">\n",
       "  <thead>\n",
       "    <tr style=\"text-align: right;\">\n",
       "      <th></th>\n",
       "      <th>Product</th>\n",
       "      <th>Price</th>\n",
       "      <th>Quantity</th>\n",
       "    </tr>\n",
       "  </thead>\n",
       "  <tbody>\n",
       "    <tr>\n",
       "      <th>0</th>\n",
       "      <td>Croissant</td>\n",
       "      <td>2.87</td>\n",
       "      <td>5</td>\n",
       "    </tr>\n",
       "    <tr>\n",
       "      <th>1</th>\n",
       "      <td>Bagel</td>\n",
       "      <td>2.40</td>\n",
       "      <td>5</td>\n",
       "    </tr>\n",
       "    <tr>\n",
       "      <th>2</th>\n",
       "      <td>Mocha</td>\n",
       "      <td>5.32</td>\n",
       "      <td>2</td>\n",
       "    </tr>\n",
       "    <tr>\n",
       "      <th>3</th>\n",
       "      <td>Americano</td>\n",
       "      <td>4.25</td>\n",
       "      <td>2</td>\n",
       "    </tr>\n",
       "    <tr>\n",
       "      <th>4</th>\n",
       "      <td>Mocha</td>\n",
       "      <td>3.15</td>\n",
       "      <td>1</td>\n",
       "    </tr>\n",
       "    <tr>\n",
       "      <th>5</th>\n",
       "      <td>Americano</td>\n",
       "      <td>5.48</td>\n",
       "      <td>4</td>\n",
       "    </tr>\n",
       "  </tbody>\n",
       "</table>\n",
       "</div>"
      ],
      "text/plain": [
       "     Product  Price  Quantity\n",
       "0  Croissant   2.87         5\n",
       "1      Bagel   2.40         5\n",
       "2      Mocha   5.32         2\n",
       "3  Americano   4.25         2\n",
       "4      Mocha   3.15         1\n",
       "5  Americano   5.48         4"
      ]
     },
     "execution_count": 64,
     "metadata": {},
     "output_type": "execute_result"
    }
   ],
   "source": [
    "first_5=df.loc[0:5, [\"Product\",\"Price\",\"Quantity\"]]\n",
    "first_5"
   ]
  },
  {
   "cell_type": "code",
   "execution_count": null,
   "id": "3df6f257",
   "metadata": {},
   "outputs": [],
   "source": [
    "filtering data"
   ]
  },
  {
   "cell_type": "code",
   "execution_count": 38,
   "id": "b3e5cd83",
   "metadata": {},
   "outputs": [
    {
     "data": {
      "text/html": [
       "<div>\n",
       "<style scoped>\n",
       "    .dataframe tbody tr th:only-of-type {\n",
       "        vertical-align: middle;\n",
       "    }\n",
       "\n",
       "    .dataframe tbody tr th {\n",
       "        vertical-align: top;\n",
       "    }\n",
       "\n",
       "    .dataframe thead th {\n",
       "        text-align: right;\n",
       "    }\n",
       "</style>\n",
       "<table border=\"1\" class=\"dataframe\">\n",
       "  <thead>\n",
       "    <tr style=\"text-align: right;\">\n",
       "      <th></th>\n",
       "      <th>Date</th>\n",
       "      <th>Product</th>\n",
       "      <th>Category</th>\n",
       "      <th>Price</th>\n",
       "      <th>Quantity</th>\n",
       "      <th>Customer_Type</th>\n",
       "    </tr>\n",
       "  </thead>\n",
       "  <tbody>\n",
       "    <tr>\n",
       "      <th>2</th>\n",
       "      <td>2024-01-29</td>\n",
       "      <td>Mocha</td>\n",
       "      <td>Beverage</td>\n",
       "      <td>5.32</td>\n",
       "      <td>2</td>\n",
       "      <td>New</td>\n",
       "    </tr>\n",
       "    <tr>\n",
       "      <th>3</th>\n",
       "      <td>2024-02-14</td>\n",
       "      <td>Americano</td>\n",
       "      <td>Beverage</td>\n",
       "      <td>4.25</td>\n",
       "      <td>2</td>\n",
       "      <td>New</td>\n",
       "    </tr>\n",
       "    <tr>\n",
       "      <th>5</th>\n",
       "      <td>2024-02-27</td>\n",
       "      <td>Americano</td>\n",
       "      <td>Beverage</td>\n",
       "      <td>5.48</td>\n",
       "      <td>4</td>\n",
       "      <td>New</td>\n",
       "    </tr>\n",
       "    <tr>\n",
       "      <th>6</th>\n",
       "      <td>2024-02-01</td>\n",
       "      <td>Latte</td>\n",
       "      <td>Beverage</td>\n",
       "      <td>4.39</td>\n",
       "      <td>5</td>\n",
       "      <td>Regular</td>\n",
       "    </tr>\n",
       "    <tr>\n",
       "      <th>7</th>\n",
       "      <td>2024-01-10</td>\n",
       "      <td>Americano</td>\n",
       "      <td>Beverage</td>\n",
       "      <td>5.49</td>\n",
       "      <td>5</td>\n",
       "      <td>New</td>\n",
       "    </tr>\n",
       "  </tbody>\n",
       "</table>\n",
       "</div>"
      ],
      "text/plain": [
       "         Date    Product  Category  Price  Quantity Customer_Type\n",
       "2  2024-01-29      Mocha  Beverage   5.32         2           New\n",
       "3  2024-02-14  Americano  Beverage   4.25         2           New\n",
       "5  2024-02-27  Americano  Beverage   5.48         4           New\n",
       "6  2024-02-01      Latte  Beverage   4.39         5       Regular\n",
       "7  2024-01-10  Americano  Beverage   5.49         5           New"
      ]
     },
     "execution_count": 38,
     "metadata": {},
     "output_type": "execute_result"
    }
   ],
   "source": [
    "#filler 1: find the expensive items (price> $4.00)\n",
    "expensive_items= df[df[\"Price\"]>4.0]\n",
    "expensive_items.head(5)"
   ]
  },
  {
   "cell_type": "code",
   "execution_count": 59,
   "id": "55667685",
   "metadata": {},
   "outputs": [
    {
     "data": {
      "text/html": [
       "<div>\n",
       "<style scoped>\n",
       "    .dataframe tbody tr th:only-of-type {\n",
       "        vertical-align: middle;\n",
       "    }\n",
       "\n",
       "    .dataframe tbody tr th {\n",
       "        vertical-align: top;\n",
       "    }\n",
       "\n",
       "    .dataframe thead th {\n",
       "        text-align: right;\n",
       "    }\n",
       "</style>\n",
       "<table border=\"1\" class=\"dataframe\">\n",
       "  <thead>\n",
       "    <tr style=\"text-align: right;\">\n",
       "      <th></th>\n",
       "      <th>Date</th>\n",
       "      <th>Product</th>\n",
       "      <th>Category</th>\n",
       "      <th>Price</th>\n",
       "      <th>Quantity</th>\n",
       "      <th>Customer_Type</th>\n",
       "    </tr>\n",
       "  </thead>\n",
       "  <tbody>\n",
       "  </tbody>\n",
       "</table>\n",
       "</div>"
      ],
      "text/plain": [
       "Empty DataFrame\n",
       "Columns: [Date, Product, Category, Price, Quantity, Customer_Type]\n",
       "Index: []"
      ]
     },
     "execution_count": 59,
     "metadata": {},
     "output_type": "execute_result"
    }
   ],
   "source": [
    "# show detail where customer type is regular\n",
    "regular_customers= df[df[\"Customer_Type\"]==\"regular\"]\n",
    "regular_customers.head(5)"
   ]
  },
  {
   "cell_type": "code",
   "execution_count": 47,
   "id": "916dafd9",
   "metadata": {},
   "outputs": [
    {
     "name": "stdout",
     "output_type": "stream",
     "text": [
      " Expensive beverages:\n"
     ]
    },
    {
     "data": {
      "text/html": [
       "<div>\n",
       "<style scoped>\n",
       "    .dataframe tbody tr th:only-of-type {\n",
       "        vertical-align: middle;\n",
       "    }\n",
       "\n",
       "    .dataframe tbody tr th {\n",
       "        vertical-align: top;\n",
       "    }\n",
       "\n",
       "    .dataframe thead th {\n",
       "        text-align: right;\n",
       "    }\n",
       "</style>\n",
       "<table border=\"1\" class=\"dataframe\">\n",
       "  <thead>\n",
       "    <tr style=\"text-align: right;\">\n",
       "      <th></th>\n",
       "      <th>Date</th>\n",
       "      <th>Product</th>\n",
       "      <th>Category</th>\n",
       "      <th>Price</th>\n",
       "      <th>Quantity</th>\n",
       "      <th>Customer_Type</th>\n",
       "    </tr>\n",
       "  </thead>\n",
       "  <tbody>\n",
       "    <tr>\n",
       "      <th>2</th>\n",
       "      <td>2024-01-29</td>\n",
       "      <td>Mocha</td>\n",
       "      <td>Beverage</td>\n",
       "      <td>5.32</td>\n",
       "      <td>2</td>\n",
       "      <td>New</td>\n",
       "    </tr>\n",
       "    <tr>\n",
       "      <th>3</th>\n",
       "      <td>2024-02-14</td>\n",
       "      <td>Americano</td>\n",
       "      <td>Beverage</td>\n",
       "      <td>4.25</td>\n",
       "      <td>2</td>\n",
       "      <td>New</td>\n",
       "    </tr>\n",
       "    <tr>\n",
       "      <th>5</th>\n",
       "      <td>2024-02-27</td>\n",
       "      <td>Americano</td>\n",
       "      <td>Beverage</td>\n",
       "      <td>5.48</td>\n",
       "      <td>4</td>\n",
       "      <td>New</td>\n",
       "    </tr>\n",
       "    <tr>\n",
       "      <th>6</th>\n",
       "      <td>2024-02-01</td>\n",
       "      <td>Latte</td>\n",
       "      <td>Beverage</td>\n",
       "      <td>4.39</td>\n",
       "      <td>5</td>\n",
       "      <td>Regular</td>\n",
       "    </tr>\n",
       "    <tr>\n",
       "      <th>7</th>\n",
       "      <td>2024-01-10</td>\n",
       "      <td>Americano</td>\n",
       "      <td>Beverage</td>\n",
       "      <td>5.49</td>\n",
       "      <td>5</td>\n",
       "      <td>New</td>\n",
       "    </tr>\n",
       "  </tbody>\n",
       "</table>\n",
       "</div>"
      ],
      "text/plain": [
       "         Date    Product  Category  Price  Quantity Customer_Type\n",
       "2  2024-01-29      Mocha  Beverage   5.32         2           New\n",
       "3  2024-02-14  Americano  Beverage   4.25         2           New\n",
       "5  2024-02-27  Americano  Beverage   5.48         4           New\n",
       "6  2024-02-01      Latte  Beverage   4.39         5       Regular\n",
       "7  2024-01-10  Americano  Beverage   5.49         5           New"
      ]
     },
     "execution_count": 47,
     "metadata": {},
     "output_type": "execute_result"
    }
   ],
   "source": [
    "# Filter 3: Combine conditions with & (AND)\n",
    "expensive_beverages = df[(df['Price'] > 4.00) & (df['Category'] == 'Beverage')]\n",
    "print(\" Expensive beverages:\")\n",
    "expensive_beverages.head(5)"
   ]
  },
  {
   "cell_type": "code",
   "execution_count": null,
   "id": "f67f256f",
   "metadata": {},
   "outputs": [],
   "source": [
    "expensive_foods= df[(df[\"Price\",]>3) & (df[\"Category\"]==\"Beverages\")]"
   ]
  },
  {
   "cell_type": "code",
   "execution_count": null,
   "id": "b0d67556",
   "metadata": {},
   "outputs": [],
   "source": [
    "tech_gadgets= pd."
   ]
  }
 ],
 "metadata": {
  "kernelspec": {
   "display_name": "base",
   "language": "python",
   "name": "python3"
  },
  "language_info": {
   "codemirror_mode": {
    "name": "ipython",
    "version": 3
   },
   "file_extension": ".py",
   "mimetype": "text/x-python",
   "name": "python",
   "nbconvert_exporter": "python",
   "pygments_lexer": "ipython3",
   "version": "3.13.5"
  }
 },
 "nbformat": 4,
 "nbformat_minor": 5
}
