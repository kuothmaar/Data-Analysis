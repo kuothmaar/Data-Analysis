{
 "cells": [
  {
   "cell_type": "markdown",
   "id": "f20b2681",
   "metadata": {},
   "source": [
    "# Introduction to Python"
   ]
  },
  {
   "cell_type": "markdown",
   "id": "72bd475d",
   "metadata": {},
   "source": [
    "@ logical operators\n",
    "using pyhton code to perfom calcutation , compare value etc\n"
   ]
  },
  {
   "cell_type": "markdown",
   "id": "f510f1c7",
   "metadata": {},
   "source": [
    "Basin Arithmtic Operations"
   ]
  },
  {
   "cell_type": "code",
   "execution_count": 2,
   "id": "c975a4da",
   "metadata": {},
   "outputs": [
    {
     "name": "stdout",
     "output_type": "stream",
     "text": [
      "Total monthly expenses this month was:  8800\n"
     ]
    }
   ],
   "source": [
    "# ssume you want a calcutate your total monthly expenses\n",
    "food=300\n",
    "rent=500\n",
    "wifi=1500\n",
    "misscellaneous=3500\n",
    "savings=3000\n",
    "\n",
    "\n",
    "total_expenses = food + rent + wifi + misscellaneous + savings\n",
    "print(\"Total monthly expenses this month was: \", total_expenses)"
   ]
  },
  {
   "cell_type": "code",
   "execution_count": 5,
   "id": "8b650cc3",
   "metadata": {},
   "outputs": [
    {
     "name": "stdout",
     "output_type": "stream",
     "text": [
      "my bank balance at the end of the month is:  31200 am not okey \n"
     ]
    }
   ],
   "source": [
    "total_salary=40000\n",
    "leftover = total_salary - total_expenses\n",
    "print(f\"my bank balance at the end of the month is:  {leftover} am not okey \")"
   ]
  },
  {
   "cell_type": "code",
   "execution_count": 4,
   "id": "3126db0e",
   "metadata": {},
   "outputs": [
    {
     "name": "stdout",
     "output_type": "stream",
     "text": [
      "my monthly  expenses on data bundles is  600kes\n"
     ]
    }
   ],
   "source": [
    "#how much bundles i spend monthly\n",
    "data_bundles=20 # 20 shillings daily\n",
    "day_of_the_month=30\n",
    "total_bundles_expenses = data_bundles * day_of_the_month\n",
    "print(f\"my monthly  expenses on data bundles is  {total_bundles_expenses}kes\")"
   ]
  },
  {
   "cell_type": "code",
   "execution_count": 7,
   "id": "6f07534d",
   "metadata": {},
   "outputs": [
    {
     "name": "stdout",
     "output_type": "stream",
     "text": [
      "Each person gets 4 cookies\n"
     ]
    }
   ],
   "source": [
    "# special math operations\n",
    "total_cookies = 23\n",
    "total_people = 5\n",
    "cookies_per_person = total_cookies // total_people\n",
    "print(f\"Each person gets {cookies_per_person} cookies\") "
   ]
  },
  {
   "cell_type": "code",
   "execution_count": 9,
   "id": "428d0755",
   "metadata": {},
   "outputs": [
    {
     "name": "stdout",
     "output_type": "stream",
     "text": [
      "reminning cookies were 3\n"
     ]
    }
   ],
   "source": [
    "#modulo didvision\n",
    "# remainder cookies\n",
    "left_over_cookies=total_cookies % total_people\n",
    "print(f\"reminning cookies were {left_over_cookies}\")"
   ]
  },
  {
   "cell_type": "code",
   "execution_count": 11,
   "id": "0212aeb0",
   "metadata": {},
   "outputs": [
    {
     "name": "stdout",
     "output_type": "stream",
     "text": [
      "We need 1 pizzas\n",
      "Plus we need 4 more slices (so get one more pizza)\n"
     ]
    }
   ],
   "source": [
    "# example of learning  for a party\n",
    "# Planning a party\n",
    "guests = 12\n",
    "slices_per_pizza = 8\n",
    "# How many pizzas do we need?\n",
    "pizzas_needed = guests // slices_per_pizza # Whole pizzas\n",
    "extra_slices_needed = guests % slices_per_pizza # Leftover guests\n",
    "print(f\"We need {pizzas_needed} pizzas\") \n",
    "if extra_slices_needed > 0:\n",
    "    print(f\"Plus we need {extra_slices_needed} more slices (so get one more pizza)\")"
   ]
  },
  {
   "cell_type": "code",
   "execution_count": null,
   "id": "a33efe12",
   "metadata": {},
   "outputs": [],
   "source": [
    "#Comparison Operators (Asking Questions About Data)\n",
    "These operators help you compare things and get True/False answers:"
   ]
  },
  {
   "cell_type": "code",
   "execution_count": 23,
   "id": "67a41de4",
   "metadata": {},
   "outputs": [
    {
     "name": "stdout",
     "output_type": "stream",
     "text": [
      "are we the same age as my friends? False\n",
      "are we defferent age with my friends? True\n"
     ]
    }
   ],
   "source": [
    "my_age=20\n",
    "my_friends_age=36\n",
    "\n",
    "same_age= my_age== my_friends_age # returns false\n",
    "\n",
    "different_age= my_age != my_friends_age\n",
    "print(\"are we the same age as my friends?\", same_age)\n",
    "print(\"are we defferent age with my friends?\", different_age)"
   ]
  },
  {
   "cell_type": "code",
   "execution_count": null,
   "id": "77512bb2",
   "metadata": {},
   "outputs": [],
   "source": [
    "age = input(\"enter you age\")\n",
    "\n",
    "if int(age) >= 21:\n",
    "    print(\"You can drink\")\n",
    "else:\n",
    "    print(\" not allow to drink\")"
   ]
  },
  {
   "cell_type": "markdown",
   "id": "79806f17",
   "metadata": {},
   "source": [
    "### Logical Operators (Combining Multiple Conditions)"
   ]
  },
  {
   "cell_type": "code",
   "execution_count": 3,
   "id": "609ac57b",
   "metadata": {},
   "outputs": [
    {
     "name": "stdout",
     "output_type": "stream",
     "text": [
      "can i drive? False\n"
     ]
    }
   ],
   "source": [
    "\n",
    "# to drive you must have a license and 18 year & above\n",
    "age =20\n",
    "has_license=False\n",
    "can_drive= age>=18 and has_license==True # return false\n",
    "print(\"can i drive?\", can_drive)"
   ]
  },
  {
   "cell_type": "code",
   "execution_count": 4,
   "id": "8263593e",
   "metadata": {},
   "outputs": [
    {
     "name": "stdout",
     "output_type": "stream",
     "text": [
      "Can sleep in: True\n"
     ]
    }
   ],
   "source": [
    "# You can sleep in if it's EITHER Saturday OR Sunday\n",
    "day = \"Saturday\"\n",
    "\n",
    "is_saturday = day == \"Saturday\" #true\n",
    "is_sunday = day == \"Sunday\" # false\n",
    "\n",
    "can_sleep_in = is_saturday or is_sunday\n",
    "print(\"Can sleep in:\", can_sleep_in) # Shows: True"
   ]
  },
  {
   "cell_type": "markdown",
   "id": "9b2b9ceb",
   "metadata": {},
   "source": [
    "Think of not like flipping a switch - it makes True become False, and False become True:"
   ]
  },
  {
   "cell_type": "code",
   "execution_count": 6,
   "id": "af2abb9a",
   "metadata": {},
   "outputs": [
    {
     "name": "stdout",
     "output_type": "stream",
     "text": [
      "Can have picnic: True\n"
     ]
    }
   ],
   "source": [
    "# If it's NOT raining, we can have a picnic\n",
    "is_raining = False\n",
    "can_have_picnic = not is_raining\n",
    "print(\"Can have picnic:\", can_have_picnic) # Shows: True"
   ]
  },
  {
   "cell_type": "markdown",
   "id": "03d24934",
   "metadata": {},
   "source": [
    "Making Decisions with if/elif/else"
   ]
  },
  {
   "cell_type": "code",
   "execution_count": null,
   "id": "752bfe2b",
   "metadata": {},
   "outputs": [
    {
     "name": "stdout",
     "output_type": "stream",
     "text": [
      "its too hit!! hydrate\n"
     ]
    }
   ],
   "source": [
    "\n",
    "temperature =32\n",
    "if temperature>=25:\n",
    "    print(\"its too hit!! hydrate\")\n",
    "else:\n",
    "    print(\"normal!! hydrate\")"
   ]
  },
  {
   "cell_type": "markdown",
   "id": "27f6733d",
   "metadata": {},
   "source": [
    "### if-else Statements (Choose between two options)\n"
   ]
  },
  {
   "cell_type": "code",
   "execution_count": 12,
   "id": "c5c64b5a",
   "metadata": {},
   "outputs": [
    {
     "name": "stdout",
     "output_type": "stream",
     "text": [
      "you are eligible to vote\n"
     ]
    }
   ],
   "source": [
    "\n",
    "age=25\n",
    "\n",
    "if age>=18:\n",
    "    print(\"you are eligible to vote\")\n",
    "else:\n",
    "    print(\"you can not vote\")"
   ]
  },
  {
   "cell_type": "markdown",
   "id": "0caf3859",
   "metadata": {},
   "source": []
  },
  {
   "cell_type": "code",
   "execution_count": null,
   "id": "ea224144",
   "metadata": {},
   "outputs": [
    {
     "name": "stdout",
     "output_type": "stream",
     "text": [
      "your grad C\n"
     ]
    }
   ],
   "source": [
    "## create  a grading system\n",
    "marks=65\n",
    "if marks >80:\n",
    "    print(\"your grade is A\")\n",
    "elif marks >=70 and marks<=79:\n",
    "    print(\"your grade is B\")\n",
    "elif marks>=60 and marks<=69:\n",
    "    print(\"your grad C\")\n",
    "elif marks>=50 and marks<=59:\n",
    "    print(\"your grad is D\")\n",
    "else:\n",
    "    print(\"you Failed!!\")\n",
    "    "
   ]
  },
  {
   "cell_type": "markdown",
   "id": "2e5cab9e",
   "metadata": {},
   "source": [
    "## List"
   ]
  },
  {
   "cell_type": "code",
   "execution_count": null,
   "id": "dec3c9e6",
   "metadata": {},
   "outputs": [
    {
     "name": "stdout",
     "output_type": "stream",
     "text": [
      "prints\n",
      "['apple,organges', 'mangoes', 'pineapples', 'Grapes']\n"
     ]
    }
   ],
   "source": [
    "fruit=[] # empty list\n",
    "print(\"prints\")\n",
    "[]\n",
    "pruits=[\"apple,\" \"organges\",\"mangoes\",\"pineapples\",\"Grapes\"]\n",
    "print(pruits)\n",
    "\n",
    "##"
   ]
  },
  {
   "cell_type": "code",
   "execution_count": 9,
   "id": "28998371",
   "metadata": {},
   "outputs": [
    {
     "name": "stdout",
     "output_type": "stream",
     "text": [
      "numbers\n"
     ]
    }
   ],
   "source": [
    "numbers=[1,4,5,34,76,87,5]\n",
    "print(\"numbers\")"
   ]
  },
  {
   "cell_type": "code",
   "execution_count": 10,
   "id": "b5c5c91f",
   "metadata": {},
   "outputs": [
    {
     "name": "stdout",
     "output_type": "stream",
     "text": [
      "shoping_List\n"
     ]
    }
   ],
   "source": [
    "## create shoping List\n",
    "shoping_List=[\"toothbruh\",\"oil\",\"fuel\",\"unga\"]\n",
    "# print first3 item\n",
    "print(\"shoping_List\")"
   ]
  },
  {
   "cell_type": "code",
   "execution_count": 11,
   "id": "1564983e",
   "metadata": {},
   "outputs": [
    {
     "name": "stdout",
     "output_type": "stream",
     "text": [
      "['kenya', 'uganda', 'congo']\n",
      "['kenya', 'uganda', 'congo', 'south sudan']\n"
     ]
    }
   ],
   "source": [
    "# appending == adding item to the end\n",
    "countries=[\"kenya\",\"uganda\",\"congo\"]\n",
    "print(countries)\n",
    "countries.append(\"south sudan\")\n",
    "print(countries)"
   ]
  },
  {
   "cell_type": "code",
   "execution_count": 12,
   "id": "3ff452b3",
   "metadata": {},
   "outputs": [
    {
     "name": "stdout",
     "output_type": "stream",
     "text": [
      "['kenya', 'tanzania', 'uganda', 'congo', 'south sudan']\n"
     ]
    }
   ],
   "source": [
    "# inserting item at specific position\n",
    "# insert  tanzania between kenya and uganda\n",
    "countries. insert(1, \"tanzania\") # inserts tanzania at posittion [1]\n",
    "print(countries)"
   ]
  },
  {
   "cell_type": "code",
   "execution_count": 13,
   "id": "2e11e54e",
   "metadata": {},
   "outputs": [
    {
     "name": "stdout",
     "output_type": "stream",
     "text": [
      "['kenya', 'tanzania', 'uganda', 'south sudan']\n"
     ]
    }
   ],
   "source": [
    "# Remove by name\n",
    "countries. remove(\"congo\")\n",
    "print(countries)"
   ]
  },
  {
   "cell_type": "code",
   "execution_count": 24,
   "id": "cb8823cf",
   "metadata": {},
   "outputs": [
    {
     "ename": "IndentationError",
     "evalue": "unexpected indent (846965769.py, line 4)",
     "output_type": "error",
     "traceback": [
      "\u001b[1;36m  Cell \u001b[1;32mIn[24], line 4\u001b[1;36m\u001b[0m\n\u001b[1;33m    print(shoping_List)\u001b[0m\n\u001b[1;37m    ^\u001b[0m\n\u001b[1;31mIndentationError\u001b[0m\u001b[1;31m:\u001b[0m unexpected indent\n"
     ]
    }
   ],
   "source": [
    "# Remove the last item on the list\n",
    "print(shopping_list)\n",
    "shoping_List.pop()\n",
    "    print(shoping_List)\n"
   ]
  },
  {
   "cell_type": "markdown",
   "id": "a3df3757",
   "metadata": {},
   "source": [
    "loops\n",
    "\n",
    "\n",
    "\n"
   ]
  },
  {
   "cell_type": "code",
   "execution_count": 21,
   "id": "30b58f81",
   "metadata": {},
   "outputs": [
    {
     "name": "stdout",
     "output_type": "stream",
     "text": [
      "item\n",
      "item\n",
      "item\n",
      "item\n"
     ]
    }
   ],
   "source": [
    "shopping_list=[\"toothbruh\",\"oil\",\"fuel\",\"unga\"]\n",
    "for item in shopping_list:\n",
    "    print(\"item\")"
   ]
  },
  {
   "cell_type": "code",
   "execution_count": 22,
   "id": "5c3096ef",
   "metadata": {},
   "outputs": [
    {
     "name": "stdout",
     "output_type": "stream",
     "text": [
      "kenya\n",
      "tanzania\n",
      "uganda\n",
      "south sudan\n"
     ]
    }
   ],
   "source": [
    "for country in countries:\n",
    "    print(country)"
   ]
  },
  {
   "cell_type": "code",
   "execution_count": null,
   "id": "0fbeb003",
   "metadata": {},
   "outputs": [
    {
     "name": "stdout",
     "output_type": "stream",
     "text": [
      "1\n",
      "2\n",
      "3\n",
      "4\n",
      "5\n"
     ]
    }
   ],
   "source": [
    "for i in range (1,6):# START\n",
    "    print(i)"
   ]
  },
  {
   "cell_type": "markdown",
   "id": "bc5dca88",
   "metadata": {},
   "source": [
    "## Dictonaries"
   ]
  },
  {
   "cell_type": "code",
   "execution_count": 24,
   "id": "9101e418",
   "metadata": {},
   "outputs": [
    {
     "ename": "SyntaxError",
     "evalue": "invalid syntax (3617331220.py, line 3)",
     "output_type": "error",
     "traceback": [
      "\u001b[1;36m  Cell \u001b[1;32mIn[24], line 3\u001b[1;36m\u001b[0m\n\u001b[1;33m    \"Age\": 25,\u001b[0m\n\u001b[1;37m         ^\u001b[0m\n\u001b[1;31mSyntaxError\u001b[0m\u001b[1;31m:\u001b[0m invalid syntax\n"
     ]
    }
   ],
   "source": [
    "students={\n",
    "\"name:\" \"damour\",\n",
    "\"Age\": 25,\n",
    "\"email\":\"kuothmaar@gmail.com\",\n",
    "\"course\":\"data analytice\",\n",
    "print( students [\"name\"])\n",
    "    \n",
    "}"
   ]
  },
  {
   "cell_type": "code",
   "execution_count": null,
   "id": "144f44ea",
   "metadata": {},
   "outputs": [],
   "source": []
  },
  {
   "cell_type": "code",
   "execution_count": 31,
   "id": "460094ee",
   "metadata": {},
   "outputs": [
    {
     "ename": "NameError",
     "evalue": "name 'students' is not defined",
     "output_type": "error",
     "traceback": [
      "\u001b[1;31m---------------------------------------------------------------------------\u001b[0m",
      "\u001b[1;31mNameError\u001b[0m                                 Traceback (most recent call last)",
      "Cell \u001b[1;32mIn[31], line 2\u001b[0m\n\u001b[0;32m      1\u001b[0m \u001b[38;5;66;03m# print student name\u001b[39;00m\n\u001b[1;32m----> 2\u001b[0m \u001b[38;5;28mprint\u001b[39m(students [\u001b[38;5;124m\"\u001b[39m\u001b[38;5;124mname\u001b[39m\u001b[38;5;124m\"\u001b[39m])\n",
      "\u001b[1;31mNameError\u001b[0m: name 'students' is not defined"
     ]
    }
   ],
   "source": [
    "# print student name\n",
    "print(students [\"name\"])"
   ]
  },
  {
   "cell_type": "code",
   "execution_count": null,
   "id": "b74af9f7",
   "metadata": {},
   "outputs": [],
   "source": [
    "#working with dictionaries\n",
    "student_grades={\n",
    "    \n",
    "}"
   ]
  },
  {
   "cell_type": "code",
   "execution_count": 4,
   "id": "0bffaa18",
   "metadata": {},
   "outputs": [
    {
     "ename": "SyntaxError",
     "evalue": "':' expected after dictionary key (2571712468.py, line 8)",
     "output_type": "error",
     "traceback": [
      "\u001b[1;36m  Cell \u001b[1;32mIn[4], line 8\u001b[1;36m\u001b[0m\n\u001b[1;33m    print(student_grades)\u001b[0m\n\u001b[1;37m                        ^\u001b[0m\n\u001b[1;31mSyntaxError\u001b[0m\u001b[1;31m:\u001b[0m ':' expected after dictionary key\n"
     ]
    }
   ],
   "source": [
    " # Real-world example: Student grades\n",
    " student_grades = {\n",
    "    \"Alice\": 92,\n",
    "    \"Bob\": 87,\n",
    "    \"Carol\": 95,\n",
    "    \"David\": 78,\n",
    "    \"Eva\": 89,\n",
    "   print(student_grades)\n",
    "\n",
    "\n",
    "}"
   ]
  },
  {
   "cell_type": "markdown",
   "id": "8f6c061e",
   "metadata": {},
   "source": [
    "What Are Functions? (Creating Your Own Tools)\n",
    " Think of a function like a recipe or a tool. Once you write the recipe, you can use it over and over without\n",
    " rewriting all the steps."
   ]
  },
  {
   "cell_type": "code",
   "execution_count": 32,
   "id": "5f012410",
   "metadata": {},
   "outputs": [
    {
     "name": "stdout",
     "output_type": "stream",
     "text": [
      "hello, john\n"
     ]
    }
   ],
   "source": [
    "name =\"john\"\n",
    "print(\"hello,\",name)"
   ]
  },
  {
   "cell_type": "code",
   "execution_count": 33,
   "id": "7f6d0c26",
   "metadata": {},
   "outputs": [],
   "source": [
    "def greet(name):\n",
    "    print(\"hello,\", name)\n",
    "    greet(\"mary\")"
   ]
  },
  {
   "cell_type": "code",
   "execution_count": 42,
   "id": "6a58c316",
   "metadata": {},
   "outputs": [
    {
     "data": {
      "text/plain": [
       "113"
      ]
     },
     "execution_count": 42,
     "metadata": {},
     "output_type": "execute_result"
    }
   ],
   "source": [
    "def add (a,b):\n",
    "  return a + b # share the resuit\n",
    "\n",
    "add (46,67)"
   ]
  },
  {
   "cell_type": "code",
   "execution_count": 43,
   "id": "4cf8cbdb",
   "metadata": {},
   "outputs": [
    {
     "data": {
      "text/plain": [
       "368"
      ]
     },
     "execution_count": 43,
     "metadata": {},
     "output_type": "execute_result"
    }
   ],
   "source": [
    "add(345,23)"
   ]
  },
  {
   "cell_type": "code",
   "execution_count": 13,
   "id": "939889f3",
   "metadata": {},
   "outputs": [],
   "source": [
    " # Function to analyze grades\n",
    " def analyze_grade(score):\n",
    "    if score >= 90:\n",
    "        print (\"A\")\n",
    "        print (\"Excellent work!\")\n",
    "    elif score >= 80:\n",
    "        print (\"B\")\n",
    "        print(\"Good job!\")\n",
    "    elif score >= 70:\n",
    "        print (\"c\")\n",
    "        print (\"Satisfactory\")\n",
    "    elif score >= 60:\n",
    "        print (\"D\")\n",
    "        print  (\"Needs improvement\")\n",
    "    else:\n",
    "        print (\"F\")\n",
    "        print (\"Please see the teacher\")"
   ]
  },
  {
   "cell_type": "code",
   "execution_count": 55,
   "id": "435955d1",
   "metadata": {},
   "outputs": [
    {
     "name": "stdout",
     "output_type": "stream",
     "text": [
      "A\n",
      "Excellent work!\n"
     ]
    }
   ],
   "source": [
    "analyze_grade(90)"
   ]
  },
  {
   "cell_type": "code",
   "execution_count": null,
   "id": "b12ae353",
   "metadata": {},
   "outputs": [
    {
     "name": "stdout",
     "output_type": "stream",
     "text": [
      "B\n",
      "Good job!\n"
     ]
    }
   ],
   "source": [
    "analyze_grade(85)  # Example usage"
   ]
  },
  {
   "cell_type": "code",
   "execution_count": 14,
   "id": "42ff1eda",
   "metadata": {},
   "outputs": [
    {
     "name": "stdout",
     "output_type": "stream",
     "text": [
      "F\n",
      "Please see the teacher\n"
     ]
    }
   ],
   "source": [
    "analyze_grade(55)  # Example usage"
   ]
  },
  {
   "cell_type": "code",
   "execution_count": 16,
   "id": "bc5c199f",
   "metadata": {},
   "outputs": [
    {
     "name": "stdout",
     "output_type": "stream",
     "text": [
      "D\n",
      "Needs improvement\n"
     ]
    }
   ],
   "source": [
    "analyze_grade(60)  # Example usage"
   ]
  },
  {
   "cell_type": "code",
   "execution_count": 17,
   "id": "37b6e4da",
   "metadata": {},
   "outputs": [
    {
     "name": "stdout",
     "output_type": "stream",
     "text": [
      "c\n",
      "Satisfactory\n"
     ]
    }
   ],
   "source": [
    "analyze_grade(70)"
   ]
  },
  {
   "cell_type": "markdown",
   "id": "412eae27",
   "metadata": {},
   "source": [
    "###handling error"
   ]
  },
  {
   "cell_type": "code",
   "execution_count": 5,
   "id": "2fcf6c4a",
   "metadata": {},
   "outputs": [
    {
     "ename": "ValueError",
     "evalue": "invalid literal for int() with base 10: ''",
     "output_type": "error",
     "traceback": [
      "\u001b[1;31m---------------------------------------------------------------------------\u001b[0m",
      "\u001b[1;31mValueError\u001b[0m                                Traceback (most recent call last)",
      "Cell \u001b[1;32mIn[5], line 1\u001b[0m\n\u001b[1;32m----> 1\u001b[0m age\u001b[38;5;241m=\u001b[39m \u001b[38;5;28mint\u001b[39m(\u001b[38;5;28minput\u001b[39m(\u001b[38;5;124m\"\u001b[39m\u001b[38;5;124menter their age:\u001b[39m\u001b[38;5;124m\"\u001b[39m))\n\u001b[0;32m      2\u001b[0m \u001b[38;5;28mprint\u001b[39m(age)\n",
      "\u001b[1;31mValueError\u001b[0m: invalid literal for int() with base 10: ''"
     ]
    }
   ],
   "source": [
    "age= int(input(\"enter their age:\"))\n",
    "print(age)"
   ]
  },
  {
   "cell_type": "code",
   "execution_count": 13,
   "id": "63d953ca",
   "metadata": {},
   "outputs": [
    {
     "name": "stdout",
     "output_type": "stream",
     "text": [
      "simon\n"
     ]
    }
   ],
   "source": [
    "name=\"simon\"\n",
    "print(name)"
   ]
  },
  {
   "cell_type": "markdown",
   "id": "5529cbac",
   "metadata": {},
   "source": [
    "## handling erroe gracefully"
   ]
  },
  {
   "cell_type": "code",
   "execution_count": 7,
   "id": "38565359",
   "metadata": {},
   "outputs": [
    {
     "name": "stdout",
     "output_type": "stream",
     "text": [
      "you are 45 years old\n"
     ]
    }
   ],
   "source": [
    "try:\n",
    "    age= input(\"enter your age:\")\n",
    "    age=int(age)\n",
    "    \n",
    "    print(\"you are\",age,\"years old\")\n",
    "except ValueError:\n",
    "    print(\"that 's not a valid number.plesae enter your digits\")\n"
   ]
  },
  {
   "cell_type": "code",
   "execution_count": 5,
   "id": "10ea7323",
   "metadata": {},
   "outputs": [
    {
     "ename": "IndentationError",
     "evalue": "expected an indented block after function definition on line 1 (1935007468.py, line 2)",
     "output_type": "error",
     "traceback": [
      "\u001b[1;36m  Cell \u001b[1;32mIn[5], line 2\u001b[1;36m\u001b[0m\n\u001b[1;33m    try:\u001b[0m\n\u001b[1;37m    ^\u001b[0m\n\u001b[1;31mIndentationError\u001b[0m\u001b[1;31m:\u001b[0m expected an indented block after function definition on line 1\n"
     ]
    }
   ],
   "source": [
    "def safe_division():\n",
    "try:\n",
    "   num1= float(input(\"enterthe first number:\"))\n",
    "   num1= float(input(\"enterthe second number:\"))\n",
    "    \n",
    "    result= num1/num2\n",
    "    print(f\"{num1}/ {num2} = {result}\")\n",
    "    \n",
    "except  ValueError\n",
    "    print(\"please enter valid numbers only\")\n",
    "except ZeroDivisionError:\n",
    "    print(\"connot divide by 0\")\n",
    "except e:\n",
    "    print(\"error\", e)\n",
    "    \n"
   ]
  },
  {
   "cell_type": "code",
   "execution_count": null,
   "id": "02518707",
   "metadata": {},
   "outputs": [],
   "source": [
    " def safe_division():\n",
    "    try:\n",
    "        num1 = float(input(\"Enter first number: \"))\n",
    "        num2 = float(input(\"Enter second number: \"))\n",
    "        result = num1 / num2\n",
    "        print(f\"{num1} ÷ {num2} = {result}\")\n",
    "    \n",
    "    except ValueError:\n",
    "        print(\"Please enter valid numbers only!\")\n",
    "    except ZeroDivisionError:\n",
    "        print(\"Cannot divide by zero!\")\n",
    "    except:\n",
    "        print(\"Something unexpected happened!\")"
   ]
  },
  {
   "cell_type": "code",
   "execution_count": 2,
   "id": "cf795264",
   "metadata": {},
   "outputs": [],
   "source": [
    "#Real-World Error Handling Example\n",
    "def get_student_grade():\n",
    "    while True:\n",
    "        try:\n",
    "            name=input(\"students name\")\n",
    "            if name.strip() ==\"\":\n",
    "                print(\"please enter a valid name\")\n",
    "                continue\n",
    "            \n",
    "            score= int(input(\"enter students score(0-100)\"))\n",
    "            if score< 0 or score >100:\n",
    "                print(\"the score must be between 0 and 100\")\n",
    "                continue\n",
    "            \n",
    "            return name, score\n",
    "        except ValueError:\n",
    "            print(\"enter vaild number\")\n",
    "        except KeyboardInterrupt:\n",
    "            exit\n",
    "        except:\n",
    "            print(\"unknown error\",e)"
   ]
  },
  {
   "cell_type": "code",
   "execution_count": 4,
   "id": "6db2b568",
   "metadata": {},
   "outputs": [
    {
     "data": {
      "text/plain": [
       "('duelkuoth', 12)"
      ]
     },
     "execution_count": 4,
     "metadata": {},
     "output_type": "execute_result"
    }
   ],
   "source": [
    "get_student_grade()"
   ]
  }
 ],
 "metadata": {
  "kernelspec": {
   "display_name": "base",
   "language": "python",
   "name": "python3"
  },
  "language_info": {
   "codemirror_mode": {
    "name": "ipython",
    "version": 3
   },
   "file_extension": ".py",
   "mimetype": "text/x-python",
   "name": "python",
   "nbconvert_exporter": "python",
   "pygments_lexer": "ipython3",
   "version": "3.13.5"
  }
 },
 "nbformat": 4,
 "nbformat_minor": 5
}
