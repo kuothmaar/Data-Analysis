{
 "cells": [
  {
   "cell_type": "code",
   "execution_count": null,
   "id": "31db1958",
   "metadata": {},
   "outputs": [
    {
     "name": "stderr",
     "output_type": "stream",
     "text": [
      "Matplotlib is building the font cache; this may take a moment.\n"
     ]
    },
    {
     "name": "stdout",
     "output_type": "stream",
     "text": [
      "Libraries imported successfully!\n"
     ]
    }
   ],
   "source": [
    "# Step 1: Import our data analysis toolkit\n",
    "import pandas as pd # Will load and organize the sales data\n",
    "import numpy as np # Will calculate averages, totals, and trends\n",
    "import matplotlib.pyplot as plt # Will create charts showing sales over time\n",
    "import seaborn as sns # Will make beautiful visualizations of customer patterns\n",
    "# Step 2: Ready to analyze!\n",
    "# (We'll learn how to load and work with data in the next modules)\n",
    "print(\"Libraries imported successfully!\")"
   ]
  },
  {
   "cell_type": "code",
   "execution_count": 4,
   "id": "afa8bb38",
   "metadata": {},
   "outputs": [
    {
     "name": "stdout",
     "output_type": "stream",
     "text": [
      "🚀 Setting up our data analysis environment...\n",
      "✅ All libraries imported successfully!\n"
     ]
    }
   ],
   "source": [
    "# === STEP 1: Import all necessary libraries ===\n",
    "print(\"🚀 Setting up our data analysis environment...\")\n",
    "import pandas as pd\n",
    "import numpy as np\n",
    "import matplotlib.pyplot as plt\n",
    "import seaborn as sns\n",
    "print(\"✅ All libraries imported successfully!\")"
   ]
  },
  {
   "cell_type": "code",
   "execution_count": 5,
   "id": "a3a09340",
   "metadata": {},
   "outputs": [
    {
     "name": "stdout",
     "output_type": "stream",
     "text": [
      "📊 Pandas version: 2.2.3\n",
      "🔢 Numpy version: 2.1.3\n",
      "🎨 Matplotlib and Seaborn are ready for visualization!\n"
     ]
    }
   ],
   "source": [
    "# === STEP 2: Test that everything works ===\n",
    "print(f\"📊 Pandas version: {pd.__version__}\")\n",
    "print(f\"🔢 Numpy version: {np.__version__}\")\n",
    "print(\"🎨 Matplotlib and Seaborn are ready for visualization!\")"
   ]
  },
  {
   "cell_type": "code",
   "execution_count": 6,
   "id": "65f1e82c",
   "metadata": {},
   "outputs": [
    {
     "name": "stdout",
     "output_type": "stream",
     "text": [
      "\n",
      " sample supermarket data:\n",
      "   Product  Sales  Profit\n",
      "0   Apples    150      45\n",
      "1  Bananas    200      80\n",
      "2  Oranges    120      36\n",
      "3    Bread    300      90\n",
      "4     Milk    250      75\n",
      "dataframe created successfully! ready for analysis!\n"
     ]
    }
   ],
   "source": [
    "# === STEP 3: Create a simple example ===\n",
    "# Let's create some sample data to prove everything works\n",
    "sample_data = {\n",
    "'Product': ['Apples', 'Bananas', 'Oranges', 'Bread', 'Milk'],\n",
    "'Sales': [150, 200, 120, 300, 250],\n",
    "'Profit': [45, 80, 36, 90, 75]\n",
    "}\n",
    "\n",
    "df=pd.DataFrame(sample_data)\n",
    "print(\"\\n sample supermarket data:\")\n",
    "print(df)\n",
    "print(\"dataframe created successfully! ready for analysis!\")"
   ]
  },
  {
   "cell_type": "code",
   "execution_count": 7,
   "id": "5f3d9640",
   "metadata": {},
   "outputs": [
    {
     "data": {
      "text/html": [
       "<div>\n",
       "<style scoped>\n",
       "    .dataframe tbody tr th:only-of-type {\n",
       "        vertical-align: middle;\n",
       "    }\n",
       "\n",
       "    .dataframe tbody tr th {\n",
       "        vertical-align: top;\n",
       "    }\n",
       "\n",
       "    .dataframe thead th {\n",
       "        text-align: right;\n",
       "    }\n",
       "</style>\n",
       "<table border=\"1\" class=\"dataframe\">\n",
       "  <thead>\n",
       "    <tr style=\"text-align: right;\">\n",
       "      <th></th>\n",
       "      <th>Product</th>\n",
       "      <th>Sales</th>\n",
       "      <th>Profit</th>\n",
       "    </tr>\n",
       "  </thead>\n",
       "  <tbody>\n",
       "    <tr>\n",
       "      <th>0</th>\n",
       "      <td>Apples</td>\n",
       "      <td>150</td>\n",
       "      <td>45</td>\n",
       "    </tr>\n",
       "    <tr>\n",
       "      <th>1</th>\n",
       "      <td>Bananas</td>\n",
       "      <td>200</td>\n",
       "      <td>80</td>\n",
       "    </tr>\n",
       "    <tr>\n",
       "      <th>2</th>\n",
       "      <td>Oranges</td>\n",
       "      <td>120</td>\n",
       "      <td>36</td>\n",
       "    </tr>\n",
       "    <tr>\n",
       "      <th>3</th>\n",
       "      <td>Bread</td>\n",
       "      <td>300</td>\n",
       "      <td>90</td>\n",
       "    </tr>\n",
       "    <tr>\n",
       "      <th>4</th>\n",
       "      <td>Milk</td>\n",
       "      <td>250</td>\n",
       "      <td>75</td>\n",
       "    </tr>\n",
       "  </tbody>\n",
       "</table>\n",
       "</div>"
      ],
      "text/plain": [
       "   Product  Sales  Profit\n",
       "0   Apples    150      45\n",
       "1  Bananas    200      80\n",
       "2  Oranges    120      36\n",
       "3    Bread    300      90\n",
       "4     Milk    250      75"
      ]
     },
     "execution_count": 7,
     "metadata": {},
     "output_type": "execute_result"
    }
   ],
   "source": [
    "df.head(5)"
   ]
  },
  {
   "cell_type": "code",
   "execution_count": 8,
   "id": "108126b9",
   "metadata": {},
   "outputs": [
    {
     "name": "stdout",
     "output_type": "stream",
     "text": [
      "Success! All libraries imported correctly! 🎯\n"
     ]
    }
   ],
   "source": [
    "# Import pandas with alias ___\n",
    "import pandas as pd\n",
    "# Import numpy with alias \n",
    "import numpy as np\n",
    "# Import matplotlib.pyplot with alias ___\n",
    "import matplotlib.pyplot as plt\n",
    "# Import seaborn with alias ___\n",
    "import seaborn as sns\n",
    "# Test your imports\n",
    "print(\"Success! All libraries imported correctly! 🎯\")"
   ]
  }
 ],
 "metadata": {
  "kernelspec": {
   "display_name": "base",
   "language": "python",
   "name": "python3"
  },
  "language_info": {
   "codemirror_mode": {
    "name": "ipython",
    "version": 3
   },
   "file_extension": ".py",
   "mimetype": "text/x-python",
   "name": "python",
   "nbconvert_exporter": "python",
   "pygments_lexer": "ipython3",
   "version": "3.13.5"
  }
 },
 "nbformat": 4,
 "nbformat_minor": 5
}
